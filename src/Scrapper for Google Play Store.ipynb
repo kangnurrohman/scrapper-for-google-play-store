{
  "cells": [
    {
      "cell_type": "markdown",
      "metadata": {
        "id": "view-in-github",
        "colab_type": "text"
      },
      "source": [
        "<a href=\"https://colab.research.google.com/github/kangnurrohman/scrapper-for-google-play-store/blob/main/src/Scrapper%20for%20Google%20Play%20Store.ipynb\" target=\"_parent\"><img src=\"https://colab.research.google.com/assets/colab-badge.svg\" alt=\"Open In Colab\"/></a>"
      ]
    },
    {
      "cell_type": "code",
      "execution_count": 7,
      "id": "217679d4",
      "metadata": {
        "id": "217679d4"
      },
      "outputs": [],
      "source": [
        "# Reference: https://www.linkedin.com/pulse/how-scrape-google-play-reviews-4-simple-steps-using-python-kundi/"
      ]
    },
    {
      "cell_type": "code",
      "source": [
        "pip install google-play-scraper"
      ],
      "metadata": {
        "id": "fYIJIUew7TuM"
      },
      "id": "fYIJIUew7TuM",
      "execution_count": null,
      "outputs": []
    },
    {
      "cell_type": "code",
      "source": [
        "import pandas as pd\n",
        "import numpy as np"
      ],
      "metadata": {
        "id": "eT8sbvk66As6"
      },
      "id": "eT8sbvk66As6",
      "execution_count": 5,
      "outputs": []
    },
    {
      "cell_type": "code",
      "source": [
        "# don't run this cell!!! run it if you want to scrape all the data reviews\n",
        "from google_play_scraper import Sort, reviews_all\n",
        "\n",
        "result = reviews_all(\n",
        "    '#', # app ID in the URL for example \"com.bukalapak.android\"\n",
        "    sleep_milliseconds=0, # defaults to 0\n",
        "    lang='id', # defaults to 'en'\n",
        "    country='id', # defaults to 'us'\n",
        "    sort=Sort.NEWEST, # defaults to Sort.MOST_RELEVANT\n",
        ")"
      ],
      "metadata": {
        "id": "7wedajY667xc"
      },
      "id": "7wedajY667xc",
      "execution_count": null,
      "outputs": []
    },
    {
      "cell_type": "code",
      "source": [
        "#Scrape desired number of reviews\n",
        "from google_play_scraper import Sort, reviews\n",
        "\n",
        "result, continuation_token = reviews(\n",
        "    '#', # app ID in the URL for example \"com.bukalapak.android\"\n",
        "    lang='id', # defaults to 'en'\n",
        "    country='id', # defaults to 'us'\n",
        "    sort=Sort.NEWEST, # defaults to Sort.MOST_RELEVANT\n",
        "    count=100, # defaults to 100\n",
        "    filter_score_with=None # defaults to None(means all score) Use 1 or 2 or 3 or 4 or 5 to select certain score\n",
        ")"
      ],
      "metadata": {
        "id": "_TBfz8Sq8OlE"
      },
      "id": "_TBfz8Sq8OlE",
      "execution_count": null,
      "outputs": []
    }
  ],
  "metadata": {
    "kernelspec": {
      "display_name": "Python 3 (ipykernel)",
      "language": "python",
      "name": "python3"
    },
    "language_info": {
      "codemirror_mode": {
        "name": "ipython",
        "version": 3
      },
      "file_extension": ".py",
      "mimetype": "text/x-python",
      "name": "python",
      "nbconvert_exporter": "python",
      "pygments_lexer": "ipython3",
      "version": "3.9.7"
    },
    "colab": {
      "provenance": [],
      "include_colab_link": true
    }
  },
  "nbformat": 4,
  "nbformat_minor": 5
}